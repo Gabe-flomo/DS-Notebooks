{
 "cells": [
  {
   "cell_type": "code",
   "execution_count": 107,
   "metadata": {},
   "outputs": [],
   "source": [
    "import numpy as np\n",
    "import pandas as pd\n",
    "import matplotlib.pyplot as plt\n",
    "import sys"
   ]
  },
  {
   "cell_type": "markdown",
   "metadata": {},
   "source": [
    "# Basics"
   ]
  },
  {
   "cell_type": "code",
   "execution_count": 4,
   "metadata": {},
   "outputs": [
    {
     "name": "stdout",
     "output_type": "stream",
     "text": [
      "[1 2 3]\n"
     ]
    }
   ],
   "source": [
    "# initializing an array\n",
    "a = np.array([1,2,3]) # a 1-D array with the values 1,2,3\n",
    "print(a)"
   ]
  },
  {
   "cell_type": "code",
   "execution_count": 6,
   "metadata": {},
   "outputs": [
    {
     "name": "stdout",
     "output_type": "stream",
     "text": [
      "[[9.5 3.4 5.8]\n",
      " [6.9 4.2 5.1]]\n"
     ]
    }
   ],
   "source": [
    "# a 2-D array of floats. 2-D arrays are represented as a list within\n",
    "# a list ([[]]) where each list is a row and each element is a column\n",
    "b = np.array([[9.5,3.4,5.8],[6.9,4.2,5.1]])\n",
    "print(b)"
   ]
  },
  {
   "cell_type": "code",
   "execution_count": 7,
   "metadata": {},
   "outputs": [
    {
     "name": "stdout",
     "output_type": "stream",
     "text": [
      "Dimension for array a: 1\n",
      "Dimension for array b: 2\n"
     ]
    }
   ],
   "source": [
    "# get the dimensions of a numpy array\n",
    "print(f\"Dimension for array a: {a.ndim}\")\n",
    "print(f\"Dimension for array b: {b.ndim}\")"
   ]
  },
  {
   "cell_type": "code",
   "execution_count": 11,
   "metadata": {},
   "outputs": [
    {
     "name": "stdout",
     "output_type": "stream",
     "text": [
      "Shape: (rows,columns)\n",
      "Shape for array a: (3,) (since 'a' is a vector its going to only show 1 dimension)\n",
      "Shape for array b: (2, 3) \n"
     ]
    }
   ],
   "source": [
    "# get the shape of an array\n",
    "print(\"Shape: (rows,columns)\")\n",
    "print(f\"Shape for array a: {a.shape} (since 'a' is a vector its going to only show 1 dimension)\")\n",
    "print(f\"Shape for array b: {b.shape} \")"
   ]
  },
  {
   "cell_type": "code",
   "execution_count": 20,
   "metadata": {},
   "outputs": [
    {
     "name": "stdout",
     "output_type": "stream",
     "text": [
      "Data type before change: int32\n",
      "Byte size before change: 4\n",
      "\n",
      "Data type after change: int16\n",
      "Byte size after change: 2\n",
      "\n",
      "Each array has a length of: 3\n"
     ]
    }
   ],
   "source": [
    "# get the type. Even though these are small arrays they are still using 4 bytes (32bits)\n",
    "# but you can change that by doing the following\n",
    "a = np.array([1,2,3])\n",
    "print(f\"Data type before change: {a.dtype}\")\n",
    "print(f\"Byte size before change: {a.itemsize}\\n\")\n",
    "a = np.array([1,2,3],dtype = 'int16')\n",
    "print(f\"Data type after change: {a.dtype}\")\n",
    "print(f\"Byte size after change: {a.itemsize}\\n\")\n",
    "\n",
    "print(f\"Each array has a length of: {a.size}\")"
   ]
  },
  {
   "cell_type": "markdown",
   "metadata": {},
   "source": [
    "# 32 vs 16 bit\n",
    "A 16-bit register can store 216 different values. The signed range of integer values that can be stored in 16 bits is −32,768 (−1 × 215) through 32,767 (215 − 1); the unsigned range is 0 through 65,535 (216 − 1).\n",
    "\n",
    "A 32-bit register can store 232 different values. The range of integer values that can be stored in 32 bits depends on the integer representation used. With the two most common representations, the range is 0 through 4,294,967,295 (232 − 1) for representation as an (unsigned) binary number, and −2,147,483,648 (−231) through 2,147,483,647 (231 − 1) for representation as two's complement.\n",
    "\n",
    "So as shown above, with 32 bit integers we can store much larger values "
   ]
  },
  {
   "cell_type": "code",
   "execution_count": 21,
   "metadata": {},
   "outputs": [
    {
     "data": {
      "text/plain": [
       "6"
      ]
     },
     "execution_count": 21,
     "metadata": {},
     "output_type": "execute_result"
    }
   ],
   "source": [
    "# see how many bytes are used to store the array\n",
    "a.nbytes"
   ]
  },
  {
   "cell_type": "markdown",
   "metadata": {},
   "source": [
    "# Accessing/Changin specific elements, rows, columns, etc."
   ]
  },
  {
   "cell_type": "code",
   "execution_count": 24,
   "metadata": {},
   "outputs": [
    {
     "name": "stdout",
     "output_type": "stream",
     "text": [
      "[[ 1  2  3  4  5  6  7]\n",
      " [ 8  9 10 11 12 13 14]]\n"
     ]
    }
   ],
   "source": [
    "a = np.array([[1,2,3,4,5,6,7],[8,9,10,11,12,13,14]])\n",
    "print(a)"
   ]
  },
  {
   "cell_type": "code",
   "execution_count": 25,
   "metadata": {},
   "outputs": [
    {
     "data": {
      "text/plain": [
       "(2, 7)"
      ]
     },
     "execution_count": 25,
     "metadata": {},
     "output_type": "execute_result"
    }
   ],
   "source": [
    "a.shape"
   ]
  },
  {
   "cell_type": "code",
   "execution_count": 28,
   "metadata": {},
   "outputs": [
    {
     "name": "stdout",
     "output_type": "stream",
     "text": [
      "13\n"
     ]
    },
    {
     "data": {
      "text/plain": [
       "13"
      ]
     },
     "execution_count": 28,
     "metadata": {},
     "output_type": "execute_result"
    }
   ],
   "source": [
    "#get a specific element [r, c]. Say we want to grab a specific number like 13.\n",
    "# We'd look in the 2nd row at the 6th index but since everything starts indexing\n",
    "# from 0 the syntax would be as follows (just subtract 1 from the actual indexes).\n",
    "print(a[1,5])\n",
    "# we can also use negative notation\n",
    "a[1,-2]"
   ]
  },
  {
   "cell_type": "code",
   "execution_count": 32,
   "metadata": {},
   "outputs": [
    {
     "name": "stdout",
     "output_type": "stream",
     "text": [
      "[1 2 3 4 5 6 7]\n",
      "[ 8  9 10 11 12 13 14]\n"
     ]
    }
   ],
   "source": [
    "# get a specific row\n",
    "print(a[0])\n",
    "print(a[1])"
   ]
  },
  {
   "cell_type": "code",
   "execution_count": 54,
   "metadata": {},
   "outputs": [
    {
     "data": {
      "text/plain": [
       "array([1, 2, 3, 4, 5, 6, 7])"
      ]
     },
     "execution_count": 54,
     "metadata": {},
     "output_type": "execute_result"
    }
   ],
   "source": [
    "# we can also use slice notation [start:end:step] start through not past stop, by step\n",
    "row = 0\n",
    "start = 0\n",
    "end = 7\n",
    "step = 1\n",
    "a[row,start:end:step]"
   ]
  },
  {
   "cell_type": "code",
   "execution_count": 58,
   "metadata": {},
   "outputs": [
    {
     "data": {
      "text/plain": [
       "array([[ 3,  4],\n",
       "       [10, 11]])"
      ]
     },
     "execution_count": 58,
     "metadata": {},
     "output_type": "execute_result"
    }
   ],
   "source": [
    "# get a specific column (a[:] means return all the rows)\n",
    "column = 2\n",
    "a[:,2] # [get all:the rows, return the column]"
   ]
  },
  {
   "cell_type": "code",
   "execution_count": 90,
   "metadata": {},
   "outputs": [
    {
     "data": {
      "text/plain": [
       "array([[ 1,  2,  3,  4,  5,  6],\n",
       "       [ 8,  9, 10, 11, 12, 13]])"
      ]
     },
     "execution_count": 90,
     "metadata": {},
     "output_type": "execute_result"
    }
   ],
   "source": [
    "                 ##############################################\n",
    "rows = 2         # how many rows to display (2 means show all)#\n",
    "columnstart = 0  # which column to start at                   #\n",
    "columnend = 6    # which column to end at                     #\n",
    "columnstep = 1   # how many steps to take                     #\n",
    "                 ##############################################\n",
    "    \n",
    "a[:rows,columnstart:columnend:columnstep]"
   ]
  },
  {
   "cell_type": "code",
   "execution_count": 92,
   "metadata": {},
   "outputs": [
    {
     "name": "stdout",
     "output_type": "stream",
     "text": [
      "13\n",
      "20\n"
     ]
    }
   ],
   "source": [
    "# changing elements. Replace 13 with 20\n",
    "print(a[1,5])\n",
    "a[1,5] = 20\n",
    "print(a[1,5])"
   ]
  },
  {
   "cell_type": "code",
   "execution_count": 94,
   "metadata": {},
   "outputs": [
    {
     "name": "stdout",
     "output_type": "stream",
     "text": [
      "[ 3 10]\n",
      "[ 5 15]\n"
     ]
    }
   ],
   "source": [
    "# changing columns\n",
    "print(a[:,2]) # column 2\n",
    "a[:,2] = [5,15]\n",
    "print(a[:,2])"
   ]
  },
  {
   "cell_type": "markdown",
   "metadata": {},
   "source": [
    "# Same Examples but with 3-D arrays"
   ]
  },
  {
   "cell_type": "code",
   "execution_count": 128,
   "metadata": {},
   "outputs": [
    {
     "name": "stdout",
     "output_type": "stream",
     "text": [
      "[[[1 2]\n",
      "  [3 4]]\n",
      "\n",
      " [[5 6]\n",
      "  [7 8]]]\n"
     ]
    }
   ],
   "source": [
    "                 # group 1        # group 2\n",
    "b = np.array([   [[1,2],[3,4]] ,  [[5,6],[7,8]]   ]) # creates a 2x2x2 matrix\n",
    "print(b)"
   ]
  },
  {
   "cell_type": "code",
   "execution_count": 99,
   "metadata": {},
   "outputs": [
    {
     "data": {
      "text/plain": [
       "3"
      ]
     },
     "execution_count": 99,
     "metadata": {},
     "output_type": "execute_result"
    }
   ],
   "source": [
    "# getting specific elements. \n",
    "\n",
    "#In this case i want the 3 so we can see\n",
    "# that 3 is in the first group, so the first index is 0. Then we see \n",
    "# that its in the second row, so the index is 1. Lastly we can see\n",
    "# that it is the first element so this index is 0.\n",
    "group_num = 0\n",
    "row_num = 1\n",
    "index_location = 0\n",
    "b[group_num,row_num,index_location]"
   ]
  },
  {
   "cell_type": "code",
   "execution_count": 110,
   "metadata": {},
   "outputs": [
    {
     "data": {
      "text/plain": [
       "array([3, 4])"
      ]
     },
     "execution_count": 110,
     "metadata": {},
     "output_type": "execute_result"
    }
   ],
   "source": [
    "# getting specific rows\n",
    "group = 0 # the group is the 2D array within the 3D array\n",
    "row = 1   # the row in the 2D array that you want to access \n",
    "b[group,row]"
   ]
  },
  {
   "cell_type": "code",
   "execution_count": 190,
   "metadata": {},
   "outputs": [
    {
     "name": "stdout",
     "output_type": "stream",
     "text": [
      "[[1 3]\n",
      " [5 7]]\n"
     ]
    }
   ],
   "source": [
    "# getting specific columns\n",
    "groupstart = 0 # (0 == all groups, 1 == 2nd group only, 2 == no groups)\n",
    "groupend = 2 # (0 == no groups, 1 == 1st group only, 2 == all groups)\n",
    "rowstart = 0 # (0 == all rows, 1 == 2nd rows only, 2 == no rows)\n",
    "rowend = 2 # (0 == no rows, 1 == 1st rows only, 2 == all rows)\n",
    "column = 0 # (0 == column 1, 1 == column 2)\n",
    "\n",
    "print(b[groupstart:groupend,rowstart:rowend,0])"
   ]
  },
  {
   "cell_type": "markdown",
   "metadata": {},
   "source": [
    "# Initializing Different types of Arrays"
   ]
  },
  {
   "cell_type": "code",
   "execution_count": 194,
   "metadata": {},
   "outputs": [
    {
     "data": {
      "text/plain": [
       "array([[0., 0., 0.],\n",
       "       [0., 0., 0.]])"
      ]
     },
     "execution_count": 194,
     "metadata": {},
     "output_type": "execute_result"
    }
   ],
   "source": [
    "# All 0s\n",
    "np.zeros((2,3))"
   ]
  },
  {
   "cell_type": "code",
   "execution_count": 198,
   "metadata": {
    "scrolled": true
   },
   "outputs": [
    {
     "data": {
      "text/plain": [
       "array([[1, 1],\n",
       "       [1, 1],\n",
       "       [1, 1],\n",
       "       [1, 1],\n",
       "       [1, 1],\n",
       "       [1, 1],\n",
       "       [1, 1],\n",
       "       [1, 1],\n",
       "       [1, 1],\n",
       "       [1, 1]])"
      ]
     },
     "execution_count": 198,
     "metadata": {},
     "output_type": "execute_result"
    }
   ],
   "source": [
    "# All 1s\n",
    "np.ones((10,2),dtype = 'int32')"
   ]
  },
  {
   "cell_type": "code",
   "execution_count": 201,
   "metadata": {},
   "outputs": [
    {
     "data": {
      "text/plain": [
       "array([[21., 21.],\n",
       "       [21., 21.]], dtype=float16)"
      ]
     },
     "execution_count": 201,
     "metadata": {},
     "output_type": "execute_result"
    }
   ],
   "source": [
    "# any other number\n",
    "np.full((2,2),21,dtype = 'float16')"
   ]
  },
  {
   "cell_type": "code",
   "execution_count": 202,
   "metadata": {},
   "outputs": [
    {
     "data": {
      "text/plain": [
       "array([[3, 3, 3, 3, 3, 3, 3],\n",
       "       [3, 3, 3, 3, 3, 3, 3]])"
      ]
     },
     "execution_count": 202,
     "metadata": {},
     "output_type": "execute_result"
    }
   ],
   "source": [
    "# full like fills an array using the shape of an array that already exists\n",
    "np.full_like(a,3)"
   ]
  },
  {
   "cell_type": "code",
   "execution_count": 206,
   "metadata": {},
   "outputs": [
    {
     "data": {
      "text/plain": [
       "array([[0.73855182, 0.60832046, 0.20392127, 0.85116187],\n",
       "       [0.20223671, 0.55829521, 0.08012608, 0.348651  ],\n",
       "       [0.12827197, 0.14640759, 0.32846827, 0.08155855],\n",
       "       [0.62520341, 0.86921468, 0.86079722, 0.39417438]])"
      ]
     },
     "execution_count": 206,
     "metadata": {},
     "output_type": "execute_result"
    }
   ],
   "source": [
    "# random decimal numbers\n",
    "np.random.rand(4,4) # the integers are the shape"
   ]
  },
  {
   "cell_type": "code",
   "execution_count": 229,
   "metadata": {},
   "outputs": [
    {
     "data": {
      "text/plain": [
       "array([[ 5,  6,  8],\n",
       "       [14,  5,  6],\n",
       "       [12,  5, 11]])"
      ]
     },
     "execution_count": 229,
     "metadata": {},
     "output_type": "execute_result"
    }
   ],
   "source": [
    "# random integer values. \n",
    "# low = lower bound (inclusive)\n",
    "# high = upper bound (exclusive)\n",
    "np.random.randint(low = 5,high = 15,size = (3,3))"
   ]
  },
  {
   "cell_type": "code",
   "execution_count": null,
   "metadata": {},
   "outputs": [],
   "source": []
  },
  {
   "cell_type": "code",
   "execution_count": null,
   "metadata": {},
   "outputs": [],
   "source": []
  },
  {
   "cell_type": "code",
   "execution_count": null,
   "metadata": {},
   "outputs": [],
   "source": []
  },
  {
   "cell_type": "code",
   "execution_count": null,
   "metadata": {},
   "outputs": [],
   "source": []
  },
  {
   "cell_type": "code",
   "execution_count": null,
   "metadata": {},
   "outputs": [],
   "source": []
  },
  {
   "cell_type": "code",
   "execution_count": null,
   "metadata": {},
   "outputs": [],
   "source": []
  }
 ],
 "metadata": {
  "kernelspec": {
   "display_name": "Python 3",
   "language": "python",
   "name": "python3"
  },
  "language_info": {
   "codemirror_mode": {
    "name": "ipython",
    "version": 3
   },
   "file_extension": ".py",
   "mimetype": "text/x-python",
   "name": "python",
   "nbconvert_exporter": "python",
   "pygments_lexer": "ipython3",
   "version": "3.7.4"
  }
 },
 "nbformat": 4,
 "nbformat_minor": 2
}
