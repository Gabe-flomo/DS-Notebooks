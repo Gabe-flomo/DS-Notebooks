{
 "cells": [
  {
   "cell_type": "code",
   "execution_count": 16,
   "metadata": {},
   "outputs": [],
   "source": [
    "import pandas as pd\n",
    "import matplotlib.pyplot as plt\n",
    "%matplotlib inline\n",
    "import os\n",
    "import seaborn as sns"
   ]
  },
  {
   "cell_type": "code",
   "execution_count": 5,
   "metadata": {},
   "outputs": [],
   "source": [
    "def load_data(path):\n",
    "    # point to the data set directory and choose the file to load\n",
    "    p = path\n",
    "    os.chdir(p) \n",
    "\n",
    "    #choose a data set\n",
    "    while True:\n",
    "        files = []\n",
    "        with os.scandir(p) as dir:\n",
    "            for count,entry in enumerate(dir):\n",
    "                print(f\"{count}) {entry.name}\")\n",
    "                files.append(entry.name)\n",
    "\n",
    "\n",
    "\n",
    "\n",
    "        data = int(input('Enter the file index: '))\n",
    "        data = os.path.join(p,files[data])\n",
    "        if not data.endswith('.csv'):\n",
    "            p = data\n",
    "            print(\"\\nThis is a directory\\n\")\n",
    "        else:\n",
    "            print(data)\n",
    "            break\n",
    "            \n",
    "    return data"
   ]
  },
  {
   "cell_type": "markdown",
   "metadata": {},
   "source": [
    "## The dataset\n",
    "Context\n",
    "This classic dataset contains the prices and other attributes of almost 54,000 diamonds. It's a great dataset for beginners learning to work with data analysis and visualization.\n",
    "\n",
    "Content\n",
    "* price price in US dollars (\\$326--\\$18,823)\n",
    "\n",
    "* carat weight of the diamond (0.2--5.01)\n",
    "\n",
    "* cut quality of the cut (Fair, Good, Very Good, Premium, Ideal)\n",
    "\n",
    "* color diamond colour, from J (worst) to D (best)\n",
    "\n",
    "* clarity a measurement of how clear the diamond is (I1 (worst), SI2, SI1, VS2, VS1, VVS2, VVS1, IF (best))\n",
    "\n",
    "* x length in mm (0--10.74)\n",
    "\n",
    "* y width in mm (0--58.9)\n",
    "\n",
    "* z depth in mm (0--31.8)\n",
    "\n",
    "depth total depth percentage = z / mean(x, y) = 2 * z / (x + y) (43--79)\n",
    "\n",
    "table width of top of diamond relative to widest point (43--95)"
   ]
  },
  {
   "cell_type": "code",
   "execution_count": 6,
   "metadata": {},
   "outputs": [
    {
     "name": "stdout",
     "output_type": "stream",
     "text": [
      "0) ArXiv_old.csv\n",
      "1) mbti_1.csv\n",
      "2) news.csv\n",
      "3) US_Accidents_Dec19.csv\n",
      "4) cannabis.csv\n",
      "5) r_dataisbeautiful_posts.csv\n",
      "6) deepnlp\n",
      "7) fake-and-real-news-dataset\n",
      "8) game-of-thrones-srt\n",
      "9) books.csv\n",
      "10) graduate-admissions\n",
      "11) Islander_data.csv\n",
      "12) mushrooms.csv\n",
      "13) netflix_titles.csv\n",
      "14) news-headlines-dataset-for-sarcasm-detection\n",
      "15) AB_NYC_2019.csv\n",
      "16) winequality-red.csv\n",
      "17) StudentsPerformance.csv\n",
      "18) ted-talks\n",
      "19) young-people-survey\n",
      "20) diamonds.csv\n",
      "21) fake_job_postings.csv\n",
      "Enter the file index: 20\n",
      "E:\\Documents\\Data\\Datasets\\diamonds.csv\n"
     ]
    },
    {
     "data": {
      "text/html": [
       "<div>\n",
       "<style scoped>\n",
       "    .dataframe tbody tr th:only-of-type {\n",
       "        vertical-align: middle;\n",
       "    }\n",
       "\n",
       "    .dataframe tbody tr th {\n",
       "        vertical-align: top;\n",
       "    }\n",
       "\n",
       "    .dataframe thead th {\n",
       "        text-align: right;\n",
       "    }\n",
       "</style>\n",
       "<table border=\"1\" class=\"dataframe\">\n",
       "  <thead>\n",
       "    <tr style=\"text-align: right;\">\n",
       "      <th></th>\n",
       "      <th>carat</th>\n",
       "      <th>cut</th>\n",
       "      <th>color</th>\n",
       "      <th>clarity</th>\n",
       "      <th>depth</th>\n",
       "      <th>table</th>\n",
       "      <th>price</th>\n",
       "      <th>x</th>\n",
       "      <th>y</th>\n",
       "      <th>z</th>\n",
       "    </tr>\n",
       "  </thead>\n",
       "  <tbody>\n",
       "    <tr>\n",
       "      <th>0</th>\n",
       "      <td>0.23</td>\n",
       "      <td>Ideal</td>\n",
       "      <td>E</td>\n",
       "      <td>SI2</td>\n",
       "      <td>61.5</td>\n",
       "      <td>55.0</td>\n",
       "      <td>326</td>\n",
       "      <td>3.95</td>\n",
       "      <td>3.98</td>\n",
       "      <td>2.43</td>\n",
       "    </tr>\n",
       "    <tr>\n",
       "      <th>1</th>\n",
       "      <td>0.21</td>\n",
       "      <td>Premium</td>\n",
       "      <td>E</td>\n",
       "      <td>SI1</td>\n",
       "      <td>59.8</td>\n",
       "      <td>61.0</td>\n",
       "      <td>326</td>\n",
       "      <td>3.89</td>\n",
       "      <td>3.84</td>\n",
       "      <td>2.31</td>\n",
       "    </tr>\n",
       "    <tr>\n",
       "      <th>2</th>\n",
       "      <td>0.23</td>\n",
       "      <td>Good</td>\n",
       "      <td>E</td>\n",
       "      <td>VS1</td>\n",
       "      <td>56.9</td>\n",
       "      <td>65.0</td>\n",
       "      <td>327</td>\n",
       "      <td>4.05</td>\n",
       "      <td>4.07</td>\n",
       "      <td>2.31</td>\n",
       "    </tr>\n",
       "    <tr>\n",
       "      <th>3</th>\n",
       "      <td>0.29</td>\n",
       "      <td>Premium</td>\n",
       "      <td>I</td>\n",
       "      <td>VS2</td>\n",
       "      <td>62.4</td>\n",
       "      <td>58.0</td>\n",
       "      <td>334</td>\n",
       "      <td>4.20</td>\n",
       "      <td>4.23</td>\n",
       "      <td>2.63</td>\n",
       "    </tr>\n",
       "    <tr>\n",
       "      <th>4</th>\n",
       "      <td>0.31</td>\n",
       "      <td>Good</td>\n",
       "      <td>J</td>\n",
       "      <td>SI2</td>\n",
       "      <td>63.3</td>\n",
       "      <td>58.0</td>\n",
       "      <td>335</td>\n",
       "      <td>4.34</td>\n",
       "      <td>4.35</td>\n",
       "      <td>2.75</td>\n",
       "    </tr>\n",
       "  </tbody>\n",
       "</table>\n",
       "</div>"
      ],
      "text/plain": [
       "   carat      cut color clarity  depth  table  price     x     y     z\n",
       "0   0.23    Ideal     E     SI2   61.5   55.0    326  3.95  3.98  2.43\n",
       "1   0.21  Premium     E     SI1   59.8   61.0    326  3.89  3.84  2.31\n",
       "2   0.23     Good     E     VS1   56.9   65.0    327  4.05  4.07  2.31\n",
       "3   0.29  Premium     I     VS2   62.4   58.0    334  4.20  4.23  2.63\n",
       "4   0.31     Good     J     SI2   63.3   58.0    335  4.34  4.35  2.75"
      ]
     },
     "execution_count": 6,
     "metadata": {},
     "output_type": "execute_result"
    }
   ],
   "source": [
    "# create the DataFrame \n",
    "p = r'E:\\Documents\\Data\\Datasets'\n",
    "data = load_data(p)\n",
    "df = pd.read_csv(data)\n",
    "df.drop('Unnamed: 0',1,inplace=True)\n",
    "df.head()"
   ]
  },
  {
   "cell_type": "markdown",
   "metadata": {},
   "source": [
    "## Count the unique items for each Categorical Feature"
   ]
  },
  {
   "cell_type": "code",
   "execution_count": 8,
   "metadata": {},
   "outputs": [
    {
     "name": "stdout",
     "output_type": "stream",
     "text": [
      "Ideal        21551\n",
      "Premium      13791\n",
      "Very Good    12082\n",
      "Good          4906\n",
      "Fair          1610\n",
      "Name: cut, dtype: int64\n",
      "\n",
      "G    11292\n",
      "E     9797\n",
      "F     9542\n",
      "H     8304\n",
      "D     6775\n",
      "I     5422\n",
      "J     2808\n",
      "Name: color, dtype: int64\n",
      "\n",
      "SI1     13065\n",
      "VS2     12258\n",
      "SI2      9194\n",
      "VS1      8171\n",
      "VVS2     5066\n",
      "VVS1     3655\n",
      "IF       1790\n",
      "I1        741\n",
      "Name: clarity, dtype: int64\n",
      "\n"
     ]
    }
   ],
   "source": [
    "# creates a list of only the column names\n",
    "columns = [column for column in df.columns]\n",
    "feature = []\n",
    "# only show for the categorical features and make a list of the categorical/numerical columns\n",
    "categorical_features = []\n",
    "numerical_features = []\n",
    "\n",
    "# loop through each column and count the number of unique items\n",
    "for column in columns:\n",
    "    # The number of occurences for each unique value in the column\n",
    "    # ex. cut: ideal    1322\n",
    "    #          premium  3267\n",
    "    #          good(26) 4208\n",
    "    values = df[column].value_counts()\n",
    "    # the data type for the column\n",
    "    feature_type = df[column].dtype\n",
    "    \n",
    "\n",
    "    if feature_type == 'object':\n",
    "        categorical_features.append(column)\n",
    "        print(f'{values}\\n')\n",
    "    else:\n",
    "        numerical_features.append(column)"
   ]
  },
  {
   "cell_type": "markdown",
   "metadata": {},
   "source": [
    "## Visualizations (Cut of the Diamond)"
   ]
  },
  {
   "cell_type": "code",
   "execution_count": 21,
   "metadata": {},
   "outputs": [
    {
     "data": {
      "image/png": "[encoded data removed]",
      "text/plain": [
       "<Figure size 432x288 with 1 Axes>"
      ]
     },
     "metadata": {
      "needs_background": "light"
     },
     "output_type": "display_data"
    }
   ],
   "source": [
    "df['cut'].value_counts().plot(kind='bar');"
   ]
  },
  {
   "cell_type": "code",
   "execution_count": 22,
   "metadata": {},
   "outputs": [
    {
     "data": {
      "image/png": "[encoded data removed]",
      "text/plain": [
       "<Figure size 432x288 with 1 Axes>"
      ]
     },
     "metadata": {
      "needs_background": "light"
     },
     "output_type": "display_data"
    }
   ],
   "source": [
    "# horizontal bar graph\n",
    "df['cut'].value_counts().plot(kind='barh');"
   ]
  },
  {
   "cell_type": "markdown",
   "metadata": {},
   "source": [
    "# Styling the plot"
   ]
  },
  {
   "cell_type": "code",
   "execution_count": 38,
   "metadata": {},
   "outputs": [
    {
     "data": {
      "image/png": "[encoded data removed]",
      "text/plain": [
       "<Figure size 504x432 with 1 Axes>"
      ]
     },
     "metadata": {},
     "output_type": "display_data"
    }
   ],
   "source": [
    "# scales the size of the fonts\n",
    "sns.set(font_scale=1)\n",
    "df['cut'].value_counts().plot(kind='bar',figsize=(7,6),rot=0);\n",
    "#plot sideways\n",
    "#df['cut'].value_counts().plot(kind='barh',figsize=(7,6),rot=0);\n",
    "\n",
    "# sets the label for the x and y axis\n",
    "plt.xlabel('Cut',labelpad=20)\n",
    "plt.ylabel('Count',labelpad=15)\n",
    "plt.title(\"Count of diamonds by Cut\");"
   ]
  },
  {
   "cell_type": "markdown",
   "metadata": {},
   "source": [
    "# Grouping Data\n",
    "Pandas _.groupby()_ method is used to split the data into groups based on some criteria.\n",
    "Below you can see it being used to group the data based on the cut of the diamond. When using the groupby method you can apply\n",
    "a function to the groups and combine them for your output. In this case, each group uses the sum of each feature. So now if you look in the price column the total price for all of the diamonds with a fair cut is $7,017,600. \n",
    "\n",
    "The groupby method can be use anytime you want to group parts of your data together."
   ]
  },
  {
   "cell_type": "code",
   "execution_count": 55,
   "metadata": {},
   "outputs": [
    {
     "data": {
      "text/html": [
       "<div>\n",
       "<style scoped>\n",
       "    .dataframe tbody tr th:only-of-type {\n",
       "        vertical-align: middle;\n",
       "    }\n",
       "\n",
       "    .dataframe tbody tr th {\n",
       "        vertical-align: top;\n",
       "    }\n",
       "\n",
       "    .dataframe thead th {\n",
       "        text-align: right;\n",
       "    }\n",
       "</style>\n",
       "<table border=\"1\" class=\"dataframe\">\n",
       "  <thead>\n",
       "    <tr style=\"text-align: right;\">\n",
       "      <th></th>\n",
       "      <th>carat</th>\n",
       "      <th>depth</th>\n",
       "      <th>table</th>\n",
       "      <th>price</th>\n",
       "      <th>x</th>\n",
       "      <th>y</th>\n",
       "      <th>z</th>\n",
       "      <th>counts</th>\n",
       "    </tr>\n",
       "    <tr>\n",
       "      <th>cut</th>\n",
       "      <th></th>\n",
       "      <th></th>\n",
       "      <th></th>\n",
       "      <th></th>\n",
       "      <th></th>\n",
       "      <th></th>\n",
       "      <th></th>\n",
       "      <th></th>\n",
       "    </tr>\n",
       "  </thead>\n",
       "  <tbody>\n",
       "    <tr>\n",
       "      <th>Fair</th>\n",
       "      <td>1684.28</td>\n",
       "      <td>103107.1</td>\n",
       "      <td>95076.6</td>\n",
       "      <td>7017600</td>\n",
       "      <td>10057.50</td>\n",
       "      <td>9954.07</td>\n",
       "      <td>6412.26</td>\n",
       "      <td>1610</td>\n",
       "    </tr>\n",
       "    <tr>\n",
       "      <th>Good</th>\n",
       "      <td>4166.10</td>\n",
       "      <td>305967.0</td>\n",
       "      <td>287955.9</td>\n",
       "      <td>19275009</td>\n",
       "      <td>28645.08</td>\n",
       "      <td>28703.75</td>\n",
       "      <td>17855.42</td>\n",
       "      <td>4906</td>\n",
       "    </tr>\n",
       "    <tr>\n",
       "      <th>Ideal</th>\n",
       "      <td>15146.84</td>\n",
       "      <td>1329899.3</td>\n",
       "      <td>1205814.4</td>\n",
       "      <td>74513487</td>\n",
       "      <td>118691.07</td>\n",
       "      <td>118963.24</td>\n",
       "      <td>73304.61</td>\n",
       "      <td>21551</td>\n",
       "    </tr>\n",
       "    <tr>\n",
       "      <th>Premium</th>\n",
       "      <td>12300.95</td>\n",
       "      <td>844901.1</td>\n",
       "      <td>810167.4</td>\n",
       "      <td>63221498</td>\n",
       "      <td>82385.88</td>\n",
       "      <td>81985.82</td>\n",
       "      <td>50297.49</td>\n",
       "      <td>13791</td>\n",
       "    </tr>\n",
       "    <tr>\n",
       "      <th>Very Good</th>\n",
       "      <td>9742.70</td>\n",
       "      <td>746888.4</td>\n",
       "      <td>700226.2</td>\n",
       "      <td>48107623</td>\n",
       "      <td>69359.09</td>\n",
       "      <td>69713.45</td>\n",
       "      <td>43009.52</td>\n",
       "      <td>12082</td>\n",
       "    </tr>\n",
       "  </tbody>\n",
       "</table>\n",
       "</div>"
      ],
      "text/plain": [
       "              carat      depth      table     price          x          y  \\\n",
       "cut                                                                         \n",
       "Fair        1684.28   103107.1    95076.6   7017600   10057.50    9954.07   \n",
       "Good        4166.10   305967.0   287955.9  19275009   28645.08   28703.75   \n",
       "Ideal      15146.84  1329899.3  1205814.4  74513487  118691.07  118963.24   \n",
       "Premium    12300.95   844901.1   810167.4  63221498   82385.88   81985.82   \n",
       "Very Good   9742.70   746888.4   700226.2  48107623   69359.09   69713.45   \n",
       "\n",
       "                  z  counts  \n",
       "cut                          \n",
       "Fair        6412.26    1610  \n",
       "Good       17855.42    4906  \n",
       "Ideal      73304.61   21551  \n",
       "Premium    50297.49   13791  \n",
       "Very Good  43009.52   12082  "
      ]
     },
     "execution_count": 55,
     "metadata": {},
     "output_type": "execute_result"
    }
   ],
   "source": [
    "# group the data by cut where each row is the total for that column at that cut\n",
    "groupedcuts = df.groupby('cut').sum()\n",
    "\n",
    "# get the value counts for each cut type a\n",
    "counts = df['cut'].value_counts()\n",
    "\n",
    "# add the counts as a new column\n",
    "groupedcuts['counts'] = counts\n",
    "groupedcuts"
   ]
  },
  {
   "cell_type": "code",
   "execution_count": 56,
   "metadata": {
    "scrolled": true
   },
   "outputs": [
    {
     "data": {
      "text/html": [
       "<div>\n",
       "<style scoped>\n",
       "    .dataframe tbody tr th:only-of-type {\n",
       "        vertical-align: middle;\n",
       "    }\n",
       "\n",
       "    .dataframe tbody tr th {\n",
       "        vertical-align: top;\n",
       "    }\n",
       "\n",
       "    .dataframe thead th {\n",
       "        text-align: right;\n",
       "    }\n",
       "</style>\n",
       "<table border=\"1\" class=\"dataframe\">\n",
       "  <thead>\n",
       "    <tr style=\"text-align: right;\">\n",
       "      <th></th>\n",
       "      <th>cut</th>\n",
       "      <th>carat</th>\n",
       "      <th>depth</th>\n",
       "      <th>table</th>\n",
       "      <th>price</th>\n",
       "      <th>x</th>\n",
       "      <th>y</th>\n",
       "      <th>z</th>\n",
       "      <th>counts</th>\n",
       "    </tr>\n",
       "  </thead>\n",
       "  <tbody>\n",
       "    <tr>\n",
       "      <th>0</th>\n",
       "      <td>Fair</td>\n",
       "      <td>1684.28</td>\n",
       "      <td>103107.1</td>\n",
       "      <td>95076.6</td>\n",
       "      <td>7017600</td>\n",
       "      <td>10057.50</td>\n",
       "      <td>9954.07</td>\n",
       "      <td>6412.26</td>\n",
       "      <td>1610</td>\n",
       "    </tr>\n",
       "    <tr>\n",
       "      <th>1</th>\n",
       "      <td>Good</td>\n",
       "      <td>4166.10</td>\n",
       "      <td>305967.0</td>\n",
       "      <td>287955.9</td>\n",
       "      <td>19275009</td>\n",
       "      <td>28645.08</td>\n",
       "      <td>28703.75</td>\n",
       "      <td>17855.42</td>\n",
       "      <td>4906</td>\n",
       "    </tr>\n",
       "    <tr>\n",
       "      <th>2</th>\n",
       "      <td>Ideal</td>\n",
       "      <td>15146.84</td>\n",
       "      <td>1329899.3</td>\n",
       "      <td>1205814.4</td>\n",
       "      <td>74513487</td>\n",
       "      <td>118691.07</td>\n",
       "      <td>118963.24</td>\n",
       "      <td>73304.61</td>\n",
       "      <td>21551</td>\n",
       "    </tr>\n",
       "    <tr>\n",
       "      <th>3</th>\n",
       "      <td>Premium</td>\n",
       "      <td>12300.95</td>\n",
       "      <td>844901.1</td>\n",
       "      <td>810167.4</td>\n",
       "      <td>63221498</td>\n",
       "      <td>82385.88</td>\n",
       "      <td>81985.82</td>\n",
       "      <td>50297.49</td>\n",
       "      <td>13791</td>\n",
       "    </tr>\n",
       "    <tr>\n",
       "      <th>4</th>\n",
       "      <td>Very Good</td>\n",
       "      <td>9742.70</td>\n",
       "      <td>746888.4</td>\n",
       "      <td>700226.2</td>\n",
       "      <td>48107623</td>\n",
       "      <td>69359.09</td>\n",
       "      <td>69713.45</td>\n",
       "      <td>43009.52</td>\n",
       "      <td>12082</td>\n",
       "    </tr>\n",
       "  </tbody>\n",
       "</table>\n",
       "</div>"
      ],
      "text/plain": [
       "         cut     carat      depth      table     price          x          y  \\\n",
       "0       Fair   1684.28   103107.1    95076.6   7017600   10057.50    9954.07   \n",
       "1       Good   4166.10   305967.0   287955.9  19275009   28645.08   28703.75   \n",
       "2      Ideal  15146.84  1329899.3  1205814.4  74513487  118691.07  118963.24   \n",
       "3    Premium  12300.95   844901.1   810167.4  63221498   82385.88   81985.82   \n",
       "4  Very Good   9742.70   746888.4   700226.2  48107623   69359.09   69713.45   \n",
       "\n",
       "          z  counts  \n",
       "0   6412.26    1610  \n",
       "1  17855.42    4906  \n",
       "2  73304.61   21551  \n",
       "3  50297.49   13791  \n",
       "4  43009.52   12082  "
      ]
     },
     "execution_count": 56,
     "metadata": {},
     "output_type": "execute_result"
    }
   ],
   "source": [
    "# use the reset index method to have the index values be an index location instead of the groupedby value, in this case cut\n",
    "groupedcuts.reset_index()"
   ]
  },
  {
   "cell_type": "markdown",
   "metadata": {},
   "source": [
    "# Bar plots using seaborn\n",
    "__Basic Bar Plot__:\n",
    "To draw a bar plot with the Seaborn library, the barplot() function of the seaborn module is used. You need to pass values for the following three parameters of the barplot() function.\n",
    "\n",
    "* x: Which contains the name of the categorical column.\n",
    "* y: Which contains the name of the numerical column.\n",
    "* data: Which stores the name of the dataset."
   ]
  },
  {
   "cell_type": "code",
   "execution_count": null,
   "metadata": {},
   "outputs": [],
   "source": []
  }
 ],
 "metadata": {
  "kernelspec": {
   "display_name": "Python 3",
   "language": "python",
   "name": "python3"
  },
  "language_info": {
   "codemirror_mode": {
    "name": "ipython",
    "version": 3
   },
   "file_extension": ".py",
   "mimetype": "text/x-python",
   "name": "python",
   "nbconvert_exporter": "python",
   "pygments_lexer": "ipython3",
   "version": "3.7.4"
  }
 },
 "nbformat": 4,
 "nbformat_minor": 4
}
