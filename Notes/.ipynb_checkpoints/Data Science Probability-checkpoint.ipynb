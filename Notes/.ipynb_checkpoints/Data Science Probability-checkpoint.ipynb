{
 "cells": [
  {
   "cell_type": "markdown",
   "metadata": {},
   "source": [
    "# <ins style=\"color:#f2aaaa\"> What is Probability </ins>\n",
    "Probability is the machinery we use to describe and account for the fact that some outcomes are more frequent than others. \n",
    "\n",
    "__For example:__ \n",
    "\n",
    "If I flip a coin, I could get heads or tails, and there’s no reason to expect to see one more often than the other. If I eat too much saturated fat or smoke, I will very likely have problems, though I might not. If I cross the road without looking, I may be squashed by a truck or I may not. Our methods need also to account for information. If I look before I cross the road, I am much less likely to be squashed.\n",
    "\n",
    "\n",
    "### <span style=\"color:#f2aaaa\"> Experiments </span>\n",
    "A scientific procedure undertaken to make a discovery, test a hypothesis, or demonstrate a known fact. Imagine you repeat the same experiment numerous times. You do not necessarily expect to see the same result each time.\n",
    "Some results might occur more frequently than others. We account for this tendency using probability. To do so, we need\n",
    "to be clear about what results an experiment can have. For example, flipping a coin.\n",
    "\n",
    "### <span style=\"color:#f2aaaa\"> Outcomes </span>\n",
    "We will formalize experiments by specifying the set of outcomes that we expect from the experiment. Every run of\n",
    "the experiment produces exactly one of the set of possible outcomes. We never see two or more outcomes from a single\n",
    "experiment, and we never see no outcome. The advantage of doing this is that we can count how often each outcome\n",
    "appears.\n",
    "\n",
    "##### <span style=\"color:#f2aaaa\"> Sample Space: </span> \n",
    "The sample space is the set of all outcomes from an experiment (sometimes written $\\Omega$).\n",
    "\n",
    "__For Example:__\n",
    "We have three playing cards. One is a queen; one is a king, and one is a jack.\n",
    "All are shown face down, and one is chosen at random and turned up. What is the set of outcomes?\n",
    "\n",
    "Write Q for queen, K for king, J for jack; the outcomes are {Q,K,J}\n",
    "\n",
    "__For Example:__\n",
    "We play find the lady twice, replacing the card we have chosen. What is the sample space?\n",
    "\n",
    "We now have {QQ,QK,QJ,KQ,KK,KJ,JQ,JK,JJ}\n",
    "\n",
    "### <span style=\"color:#f2aaaa\"> Events </span>\n",
    "Events are the set of one or more outcomes in a sample space. For example, if I flip a coin twice there are 4 possible outcomes. \n",
    "* HH\n",
    "* HT\n",
    "* TH\n",
    "* TT\n",
    "\n",
    "This is our sample space where each outcome has a 1/4 chance of occuring. An event would be something like: __\"All of the outcome pairs that include heads\"__. This New set is an event from a bigger sample space where the possible outcomes are now\n",
    "* HH\n",
    "* HT\n",
    "* TH\n",
    "\n",
    "This event has a 3/4 chance of occuring because out of the four possible outcomes, 3 of them are captured by our event\n",
    "\n",
    "##### <span style=\"color:#f2aaaa\"> Properties of events </span> \n",
    "* The probability of every event is between zero and one $0\\leq P\\left( A\\right) \\leq 1$\n",
    "* Every experiment has an outcome $p\\left( \\Omega \\right) =1$"
   ]
  },
  {
   "cell_type": "code",
   "execution_count": null,
   "metadata": {},
   "outputs": [],
   "source": []
  }
 ],
 "metadata": {
  "kernelspec": {
   "display_name": "Python 3",
   "language": "python",
   "name": "python3"
  },
  "language_info": {
   "codemirror_mode": {
    "name": "ipython",
    "version": 3
   },
   "file_extension": ".py",
   "mimetype": "text/x-python",
   "name": "python",
   "nbconvert_exporter": "python",
   "pygments_lexer": "ipython3",
   "version": "3.7.4"
  }
 },
 "nbformat": 4,
 "nbformat_minor": 2
}
