{
 "cells": [
  {
   "cell_type": "markdown",
   "metadata": {},
   "source": [
    "# <ins style=\"color:#9bdeac\"> Vocab </ins>\n",
    "\n",
    "#### <span style=\"color:#f2aaaa\"> Coefficients </span>\n",
    "A coefficient is a number used to multiply a variable. For Example, 6x means 6 times x, where x is the variable so 6 is a coefficient. Variables with no number have a coefficient of 1. Example: x is really 1x. Sometimes a letter stands in for the number.\n",
    "\n",
    "#### <span style=\"color:#f2aaaa\"> Correlation Coefficients </span>\n",
    "A correlation coefficient is a value that describes how the change in variable predicts the change in another variable. In positively correlated variables, as the value of one variable increases the other increases as well or as one variable decreases the other decreases as well. Negatively correlated variables are inverses of eachother, as one increases the other decreases. \n",
    "\n",
    "Correlation coefficients are expressed as values between -1 and +1. A coefficient of +1 means there is a perfect positive correlation and a value of -1 means that there is a perfect negative correlation. A value of 0 means that there is no correlation.\n",
    "\n",
    "![Perfect correlations](https://diagrammm.com/img/diagrams/scatter-plot-correlations.svg)\n",
    "![Correlations](https://diagrammm.com/img/diagrams/scatter-plot-correlations-high-low.svg)\n",
    "\n",
    "\n"
   ]
  },
  {
   "cell_type": "markdown",
   "metadata": {},
   "source": [
    "# <ins style=\"color:#9bdeac\"> Concepts/Methods </ins>\n",
    "\n",
    "\n",
    "## <ins style=\"color:#f2aaaa\"> Descriptive Statistics </ins>\n",
    "Descriptive statistics is the term given to the analysis of data that helps describe, show or summarize data in a meaningful way such that, for example, patterns might emerge from the data. Descriptive statistics do not, however, allow us to make conclusions beyond the data we have analysed or reach conclusions regarding any hypotheses we might have made. They are simply a way to describe our data.\n",
    "\n",
    "Descriptive statistics are very important because if we simply presented our raw data it would be hard to visualize what the data was showing, especially if there was a lot of it. Descriptive statistics therefore enables us to present the data in a more meaningful way, which allows simpler interpretation of the data.\n",
    "\n",
    "For example, if we had the results of 100 pieces of students' coursework, we may be interested in the overall performance of those students. We would also be interested in the distribution or spread of the marks. Descriptive statistics allow us to do this.\n",
    "\n",
    "_Descriptive statistics are broken down into two categories. Measures of central tendency and measures of variability or spread._\n",
    "\n",
    "### <span style=\"color:#f2aaaa\"> Measures Of Central Tendency </span>\n",
    "Central tendency refers to the idea that there is one number that best summarizes the entire set of measurements, a number that is in some way “central” to the set.\n",
    "\n",
    "### <span style=\"color:#f2aaaa\"> Mean </span>\n",
    "Mean or Average is a central tendency of the data i.e. a number around which a whole data is spread out. In a way, it is a single number which can estimate the value of whole data set.\n",
    "\n",
    "It's calculated by taking the sum of the observations divided by the total number of observations.\n",
    "\n",
    "$$\\mu =\\dfrac {\\sum x}{n}$$\n",
    "Where:\n",
    "* $\\mu$ is the mean \n",
    "* ${\\sum x}$ is the sum of all values\n",
    "* ${n}$ is the number of observations\n",
    " \n",
    "### <span style=\"color:#f2aaaa\"> Median </span>\n",
    "The median is the middle number in a sorted, ascending or descending, list of numbers and can be more descriptive of that data set than the average. The median is sometimes used as opposed to the mean when there are outliers in the sequence that might skew the average of the values.\n",
    "\n",
    "![median](https://s3-us-west-2.amazonaws.com/courses-images/wp-content/uploads/sites/277/2017/04/24221812/CNX_BMath_Figure_05_05_008_img.png)\n",
    "\n",
    "__Note__: When values are in arithmetic progression (difference between the consecutive terms is constant. Here it is 2.), median is always equal to mean.\n",
    "![median](https://miro.medium.com/max/155/1*risOxB9tig15o1b7pE8xHw.png)\n",
    "Both the mean and median is 6\n",
    "\n",
    "### <span style=\"color:#f2aaaa\"> Mode </span>\n",
    "Mode is the term appearing maximum time in data set i.e. term that has highest frequency.\n",
    "``` python\n",
    "                                                   [1,2,3,4,4,4,5,6,7,7,8]\n",
    "```\n",
    "In this example the mode is 4 because it appears more frequently than any of the other values.\n",
    "\n",
    "But there could be a data set where there is no mode at all as all values appears same number of times. If two values appeared same time and more than the rest of the values then the data set is bimodal. If three values appeared same time and more than the rest of the values then the data set is trimodal and for n modes, that data set is multimodal.\n",
    "\n",
    "### <span style=\"color:#f2aaaa\"> Measures Of Spread/Dispersion </span>\n",
    "Measures of spread describe how similar or varied the set of observed values are for a particular variable\n",
    "\n",
    "### <span style=\"color:#f2aaaa\"> Standard Deviation </span>\n",
    "Standard deviation is the measurement of average distance between each quantity and mean. That is, how data is spread out from mean. A low standard deviation indicates that the data points tend to be close to the mean of the data set, while a high standard deviation indicates that the data points are spread out over a wider range of values.\n",
    "\n",
    "Standard deviation is calculated by taking the sum of the square of each number subtracted by the mean divided by the size of the population.\n",
    "\n",
    "$$\\sigma =\\sqrt {\\dfrac {\\sum \\left( x_{i}-\\mu \\right) ^{2}}{N}}$$\n",
    "\n",
    "Where:\n",
    "* $\\sigma$ is the population standard deviation\n",
    "* $\\mu$ is the population mean\n",
    "* $x_{i}$ is each value from the population\n",
    "* ${N}$ is the size of the population\n",
    "\n",
    "When we want to find the standard deviation of a sample (seegment of the population) we have to change the formula a bit\n",
    "\n",
    "$$\\sigma =\\sqrt {\\dfrac {\\sum \\left( x_{i}-\\overline {x} \\right) ^{2}}{N-1}}$$\n",
    "\n",
    "Where:\n",
    "* $\\sigma$ is the population standard deviation\n",
    "* $\\overline {x}$ is the sample mean\n",
    "* $x_{i}$ is each value from the population\n",
    "* ${N}$ is the size of the population\n",
    "\n",
    "##### <span style=\"color:#e36387\"> What do you consider a good standard deviation? </span> \n",
    "For an approximate answer, estimate your coefficient of variation (CV=standard deviation / mean). As a rule of thumb, a CV >= 1 indicates a relatively high variation, while a CV < 1 can be considered low. This means that distributions with a coefficient of variation higher than 1 are considered to be high variance whereas those with a CV lower than 1 are considered to be low-variance. \n",
    "\n",
    "__For Example__:\n",
    "``` python\n",
    "l = [1,2,3,4,4,4,5,6,7,7,8]\n",
    "mean = np.mean(l)\n",
    "std = np.std(l)\n",
    "cv = mean/std\n",
    "\n",
    "        # mean            # STD              # CV\n",
    "(4.636363636363637, 2.10076727423479, 0.4531066669918174 )\n",
    "```\n",
    "In this example the coefficient of variation is less than 1, so we can assume that this data has relatively low standard deviation, and in fact it does. If we change a few of the data points to very large numbers, we can see how it effects our standard deviation and CV.\n",
    "\n",
    "``` python\n",
    "l = [1,2,3,45,4,4,5,6,73,7,8]\n",
    "mean = np.mean(l)\n",
    "std = np.std(l)\n",
    "cv = mean/std\n",
    "\n",
    "        # mean            # STD              # CV\n",
    "(14.363636363636363, 21.95976787123848, 1.528844598630527 )\n",
    "```\n",
    "### <span style=\"color:#f2aaaa\"> Variance </span>\n",
    "Variance ($\\sigma ^{2}$) in statistics is a measurement of the spread between numbers in a data set. That is, it measures how far each number in the set is from the mean and therefore from every other number in the set.\n",
    "\n",
    "Its also equal to the standard deviation squared\n",
    "\n",
    "$$\\sigma ^{2}=\\left( \\sigma \\right) ^{2}$$\n",
    "\n",
    "Where:\n",
    "* $\\sigma ^{2}$ is the variance\n",
    "* $\\sigma$ is the standard deviation\n",
    "\n",
    "##### <span style=\"color:#e36387\"> What do you consider a good standard deviation? </span> \n",
    "The standard deviation is the square root of the variance. The standard deviation is expressed in the same units as the mean is, whereas the variance is expressed in squared units, but for looking at a distribution, you can use either just so long as you are clear about what you are using\n",
    "\n",
    "### <span style=\"color:#f2aaaa\"> Range </span>\n",
    "Range is one of the simplest techniques of descriptive statistics. It is the difference between lowest and highest value.\n",
    "\n",
    "![range](https://miro.medium.com/max/330/1*xP8y25SjrptUu958fSL_-A.png)\n",
    "\n",
    "Range is 99–12 = 87\n"
   ]
  },
  {
   "cell_type": "markdown",
   "metadata": {},
   "source": [
    "# <ins style=\"color:#9bdeac\"> Models </ins>"
   ]
  },
  {
   "cell_type": "markdown",
   "metadata": {},
   "source": [
    "# <ins style=\"color:#9bdeac\"> Metrics/Evaluation </ins>"
   ]
  },
  {
   "cell_type": "markdown",
   "metadata": {},
   "source": [
    "# <ins style=\"color:#9bdeac\"> Visualization </ins>"
   ]
  },
  {
   "cell_type": "markdown",
   "metadata": {},
   "source": [
    "# <ins style=\"color:#9bdeac\"> Interpretation </ins>"
   ]
  },
  {
   "cell_type": "markdown",
   "metadata": {},
   "source": []
  },
  {
   "cell_type": "code",
   "execution_count": null,
   "metadata": {},
   "outputs": [],
   "source": []
  },
  {
   "cell_type": "code",
   "execution_count": null,
   "metadata": {},
   "outputs": [],
   "source": []
  },
  {
   "cell_type": "code",
   "execution_count": null,
   "metadata": {},
   "outputs": [],
   "source": []
  }
 ],
 "metadata": {
  "kernelspec": {
   "display_name": "Python 3",
   "language": "python",
   "name": "python3"
  },
  "language_info": {
   "codemirror_mode": {
    "name": "ipython",
    "version": 3
   },
   "file_extension": ".py",
   "mimetype": "text/x-python",
   "name": "python",
   "nbconvert_exporter": "python",
   "pygments_lexer": "ipython3",
   "version": "3.7.4"
  }
 },
 "nbformat": 4,
 "nbformat_minor": 2
}
