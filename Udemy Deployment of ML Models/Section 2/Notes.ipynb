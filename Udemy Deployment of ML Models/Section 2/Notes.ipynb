{
 "cells": [
  {
   "cell_type": "markdown",
   "metadata": {},
   "source": [
    "# What is a Machine Learning Pipeline?\n",
    "A data science pipeline is the overall step by step process towards obtaining, cleaning, visualizing, modeling, and interpreting data within a business or group. Data science pipelines work for small data analysis.    "
   ]
  },
  {
   "cell_type": "markdown",
   "metadata": {},
   "source": [
    "# Labels in Categorical Values\n",
    "__Cardinality__: cardinality is how many unique categorical variables there are. For example, a categorical feature has high cardinality if most of its values are unique. So say i have a data set and one of the columns is name. This column will have a mush higher cardinality than a column like sex because there are only 2 unique variables foe sex vs. something like name which could be different for each observation.\n",
    "\n",
    "__Rare/Infrequent labels__: These are labels that only show up in a very small portion of the dataset and when its split into train and test sets, there might be labels in the train set that might not be in the test set and vice versa.\n",
    "\n",
    "__Categories__: Columns that have strings for their values instead of numbers need to be encoded because models only understand numerical values."
   ]
  },
  {
   "cell_type": "markdown",
   "metadata": {},
   "source": [
    "# Distributions\n",
    "What do I mean by this linear models assume that the variables follow a Gaussian distribution. So if the variables in our data sets are not Gaussian we may choose to apply some transformations. Other models like support vector machines and neural networks do not make any variable assumptions. However a better spread of the values over a larger range tends to improve the predictive performance\n"
   ]
  },
  {
   "cell_type": "markdown",
   "metadata": {},
   "source": [
    "# Feature Scaling\n",
    "Feature Scaling is a technique to standardize the independent features present in the data in a fixed range. If feature scaling is not done, then a machine learning algorithm tends to weigh greater values, higher and consider smaller values as the lower values, regardless of the unit of the values.\n"
   ]
  },
  {
   "cell_type": "code",
   "execution_count": null,
   "metadata": {},
   "outputs": [],
   "source": []
  }
 ],
 "metadata": {
  "kernelspec": {
   "display_name": "Python 3",
   "language": "python",
   "name": "python3"
  },
  "language_info": {
   "codemirror_mode": {
    "name": "ipython",
    "version": 3
   },
   "file_extension": ".py",
   "mimetype": "text/x-python",
   "name": "python",
   "nbconvert_exporter": "python",
   "pygments_lexer": "ipython3",
   "version": "3.7.4"
  }
 },
 "nbformat": 4,
 "nbformat_minor": 2
}
